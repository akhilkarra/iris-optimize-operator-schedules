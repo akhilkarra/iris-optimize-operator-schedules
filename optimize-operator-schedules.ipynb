{
  "cells": [
    {
      "cell_type": "markdown",
      "metadata": {
        "id": "view-in-github",
        "colab_type": "text"
      },
      "source": [
        "<a href=\"https://colab.research.google.com/github/akhilkarra/iris-optimize-operator-schedules/blob/initial-setup/optimize-operator-schedules.ipynb\" target=\"_parent\"><img src=\"https://colab.research.google.com/assets/colab-badge.svg\" alt=\"Open In Colab\"/></a>"
      ]
    },
    {
      "cell_type": "markdown",
      "source": [
        "# Abstract\n",
        "\n",
        "[...]"
      ],
      "metadata": {
        "id": "nrKkRDm7qRnD"
      }
    },
    {
      "cell_type": "markdown",
      "source": [
        "# Introduction\n",
        "\n",
        "[...]"
      ],
      "metadata": {
        "id": "2JdIslMCqdHP"
      }
    },
    {
      "cell_type": "markdown",
      "source": [
        "# Mathematical Definition of Model\n",
        "\n",
        "[...]"
      ],
      "metadata": {
        "id": "tNb1xQ1xqgCd"
      }
    },
    {
      "cell_type": "markdown",
      "source": [
        "# Setting up the Code Workspace\n",
        "\n",
        "Now, we will set up the code workspace for executing the above optimization model using Google OR-Tools.\n",
        "\n",
        "We will first import the OR-Tools module."
      ],
      "metadata": {
        "id": "BgpTB1D_qo_Y"
      }
    },
    {
      "cell_type": "code",
      "source": [],
      "metadata": {
        "id": "6S6svSnQqcAi"
      },
      "execution_count": null,
      "outputs": []
    },
    {
      "cell_type": "markdown",
      "source": [
        "# Executing the Model\n",
        "\n",
        "Now that we have set up the runtime environment and have defined our optimization model, we will now input the model into OR-Tools and execute it."
      ],
      "metadata": {
        "id": "to0Xm123q7KJ"
      }
    },
    {
      "cell_type": "markdown",
      "source": [
        "# Conclusions\n",
        "\n",
        "The model has returned the following: [...] From this, we see that the optimal operator schedule is as follows:\n",
        "[...]"
      ],
      "metadata": {
        "id": "PdZRy-ydra5a"
      }
    },
    {
      "cell_type": "code",
      "source": [],
      "metadata": {
        "id": "s2LpooGgrlIc"
      },
      "execution_count": null,
      "outputs": []
    }
  ],
  "metadata": {
    "colab": {
      "name": "Welcome To Colaboratory",
      "provenance": [],
      "include_colab_link": true
    },
    "kernelspec": {
      "display_name": "Python 3",
      "name": "python3"
    }
  },
  "nbformat": 4,
  "nbformat_minor": 0
}