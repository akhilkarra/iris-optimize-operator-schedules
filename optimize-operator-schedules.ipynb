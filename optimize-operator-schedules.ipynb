{
  "cells": [
    {
      "cell_type": "markdown",
      "metadata": {
        "id": "view-in-github",
        "colab_type": "text"
      },
      "source": [
        "<a href=\"https://colab.research.google.com/github/akhilkarra/iris-optimize-operator-schedules/blob/initial-setup/optimize-operator-schedules.ipynb\" target=\"_parent\"><img src=\"https://colab.research.google.com/assets/colab-badge.svg\" alt=\"Open In Colab\"/></a>"
      ]
    },
    {
      "cell_type": "markdown",
      "source": [
        "# Abstract\n",
        "\n",
        "[...]"
      ],
      "metadata": {
        "id": "nrKkRDm7qRnD"
      }
    },
    {
      "cell_type": "markdown",
      "source": [
        "# Introduction\n",
        "\n",
        "[...]"
      ],
      "metadata": {
        "id": "2JdIslMCqdHP"
      }
    },
    {
      "cell_type": "markdown",
      "source": [
        "# Mathematical Definition of Model\n",
        "\n",
        "[...]"
      ],
      "metadata": {
        "id": "tNb1xQ1xqgCd"
      }
    },
    {
      "cell_type": "markdown",
      "source": [
        "# Setting up the Code Workspace\n",
        "\n",
        "Now, we will set up the code workspace for executing the above optimization model using Google OR-Tools.\n",
        "\n",
        "We will first import the OR-Tools module."
      ],
      "metadata": {
        "id": "BgpTB1D_qo_Y"
      }
    },
    {
      "cell_type": "code",
      "source": [
        "!pip install ortools\n",
        "import math\n",
        "from ortools.linear_solver import pywraplp"
      ],
      "metadata": {
        "colab": {
          "base_uri": "https://localhost:8080/"
        },
        "id": "6S6svSnQqcAi",
        "outputId": "a92536c9-d2bf-4df2-e961-82cb168a47f0"
      },
      "execution_count": 5,
      "outputs": [
        {
          "output_type": "stream",
          "name": "stdout",
          "text": [
            "Looking in indexes: https://pypi.org/simple, https://us-python.pkg.dev/colab-wheels/public/simple/\n",
            "Requirement already satisfied: ortools in /root/.local/lib/python3.8/site-packages (9.5.2237)\n",
            "Requirement already satisfied: protobuf>=4.21.5 in /root/.local/lib/python3.8/site-packages (from ortools) (4.22.0)\n",
            "Requirement already satisfied: numpy>=1.13.3 in /usr/local/lib/python3.8/dist-packages (from ortools) (1.22.4)\n",
            "Requirement already satisfied: absl-py>=0.13 in /usr/local/lib/python3.8/dist-packages (from ortools) (1.4.0)\n"
          ]
        }
      ]
    },
    {
      "cell_type": "markdown",
      "source": [
        "For the purposes of setting up this Jupyter notebook, we will validate the module was imported correctly by solving the following simple Linear Programming model.\n",
        "\n",
        "Define $x, y \\in \\mathbb{R}$ as decision variables. Then our linear programing model is defined as follows:\n",
        "\\begin{align}\n",
        "  \\max 3x + 4y\n",
        "\\end{align}\n",
        "subject to \n",
        "\\begin{align}\n",
        "  x + 2y &\\leq 14, \\\\\n",
        "  3x - y &\\geq 0, \\\\\n",
        "  x - y &\\leq 2.\n",
        "\\end{align}"
      ],
      "metadata": {
        "id": "nMlbhTB2yDgU"
      }
    },
    {
      "cell_type": "code",
      "source": [
        "# Create the solver itself\n",
        "solver = pywraplp.Solver.CreateSolver('GLOP')\n",
        "assert (solver)\n",
        "\n",
        "# Quantify the decision variables\n",
        "x = solver.NumVar(0, solver.infinity(), 'x')  # format = (lo, hi, name)\n",
        "y = solver.NumVar(0, solver.infinity(), 'y')\n",
        "\n",
        "# Define constraints\n",
        "solver.Add(x + 2*y <= 14.0)  # x + 2y <= 14\n",
        "solver.Add(3*x - y >= 0.0)   # 3x - y >= 0\n",
        "solver.Add(x - y <= 2.0)     # x - y <= 2\n",
        "\n",
        "# Define the objective function\n",
        "solver.Maximize(3*x + 4*y)\n",
        "\n",
        "# Invoke solver\n",
        "status = solver.Solve()\n",
        "# We already know that this model does have an optimal solution\n",
        "assert (status == pywraplp.Solver.OPTIMAL)\n",
        "print(\"Solution:\")\n",
        "print(\"Objective value =\", solver.Objective().Value())\n",
        "print(\"optimized x =\", x.solution_value())\n",
        "print(\"optimized y =\", y.solution_value())\n",
        "# Optimal solution should occur at (x, y) = (6, 4) with an optimal value of 34\n",
        "assert (math.isclose(x.solution_value(), 6.0, abs_tol=1e-8))\n",
        "assert (math.isclose(y.solution_value(), 4.0, abs_tol=1e-8))\n",
        "assert (math.isclose(solver.Objective().Value(), 34.0, abs_tol = 1e-8))"
      ],
      "metadata": {
        "id": "lcVrBnlTyUPI",
        "outputId": "304faad9-f08f-43e3-fb2e-26575e66ddb9",
        "colab": {
          "base_uri": "https://localhost:8080/"
        }
      },
      "execution_count": 6,
      "outputs": [
        {
          "output_type": "stream",
          "name": "stdout",
          "text": [
            "Solution:\n",
            "Objective value =  33.99999999999999\n",
            "optimized x =  5.999999999999998\n",
            "optimized y =  3.9999999999999996\n"
          ]
        }
      ]
    },
    {
      "cell_type": "markdown",
      "source": [
        "# Executing the Model\n",
        "\n",
        "Now that we have set up the runtime environment and have defined our optimization model, we will now input the model into OR-Tools and execute it."
      ],
      "metadata": {
        "id": "to0Xm123q7KJ"
      }
    },
    {
      "cell_type": "markdown",
      "source": [
        "# Conclusions\n",
        "\n",
        "The model has returned the following: [...] From this, we see that the optimal operator schedule is as follows:\n",
        "[...]"
      ],
      "metadata": {
        "id": "PdZRy-ydra5a"
      }
    }
  ],
  "metadata": {
    "colab": {
      "name": "Welcome To Colaboratory",
      "provenance": [],
      "include_colab_link": true
    },
    "kernelspec": {
      "display_name": "Python 3",
      "name": "python3"
    }
  },
  "nbformat": 4,
  "nbformat_minor": 0
}